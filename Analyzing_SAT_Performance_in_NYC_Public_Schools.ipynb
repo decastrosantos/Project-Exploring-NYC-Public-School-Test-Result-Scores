{
  "nbformat": 4,
  "nbformat_minor": 0,
  "metadata": {
    "colab": {
      "provenance": [],
      "authorship_tag": "ABX9TyMP6ACETKWBh4shuB8mDIKQ",
      "include_colab_link": true
    },
    "kernelspec": {
      "name": "python3",
      "display_name": "Python 3"
    },
    "language_info": {
      "name": "python"
    }
  },
  "cells": [
    {
      "cell_type": "markdown",
      "metadata": {
        "id": "view-in-github",
        "colab_type": "text"
      },
      "source": [
        "<a href=\"https://colab.research.google.com/github/decastrosantos/Project-Exploring-NYC-Public-School-Test-Result-Scores/blob/main/Analyzing_SAT_Performance_in_NYC_Public_Schools.ipynb\" target=\"_parent\"><img src=\"https://colab.research.google.com/assets/colab-badge.svg\" alt=\"Open In Colab\"/></a>"
      ]
    },
    {
      "cell_type": "markdown",
      "source": [
        "**Project from Datacamp: Career track Associate Data Scientist in Python**\n",
        "\n",
        "**Analyzing SAT Performance in NYC Public Schools: A Data Analyst's Approach**\n",
        "\n",
        "In the U.S., high school students take the SATs, standardized tests designed to assess literacy, numeracy, and writing skills. The exam consists of three sections—reading, math, and writing, each with a **maximum score of 800 points**. These scores play a crucial role in college admissions, influencing both students' futures and institutional decision-making.\n",
        "\n",
        "As a Data Analyst, I set out to explore SAT performance across New York City (NYC) public schools. Understanding these trends is valuable for various stakeholders, including education policymakers, researchers, government officials, and parents evaluating school options.\n",
        "\n",
        "Using the dataset `schools.csv`, I conducted an exploratory data analysis (EDA) to answer three key questions about SAT performance in NYC schools. This analysis provides insights into school performance patterns, helping inform discussions on education quality and equity.\n",
        "\n",
        "By leveraging data analytics, we can uncover meaningful trends in student achievement and contribute to data-driven decision-making in education.\n"
      ],
      "metadata": {
        "id": "5r93jOdmsSL7"
      }
    },
    {
      "cell_type": "code",
      "execution_count": 1,
      "metadata": {
        "colab": {
          "base_uri": "https://localhost:8080/",
          "height": 206
        },
        "id": "FAzShCa6sLGm",
        "outputId": "a27047d7-66fc-45a0-fc10-5878627d1d1d"
      },
      "outputs": [
        {
          "output_type": "execute_result",
          "data": {
            "text/plain": [
              "   index                                        school_name    borough  \\\n",
              "0      0  New Explorations into Science, Technology and ...  Manhattan   \n",
              "1      1                               Essex Street Academy  Manhattan   \n",
              "2      2                       Lower Manhattan Arts Academy  Manhattan   \n",
              "3      3    High School for Dual Language and Asian Studies  Manhattan   \n",
              "4      4      Henry Street School for International Studies  Manhattan   \n",
              "\n",
              "  building_code  average_math  average_reading  average_writing  \\\n",
              "0          M022           657              601              601   \n",
              "1          M445           395              411              387   \n",
              "2          M445           418              428              415   \n",
              "3          M445           613              453              463   \n",
              "4          M056           410              406              381   \n",
              "\n",
              "   percent_tested  \n",
              "0             NaN  \n",
              "1            78.9  \n",
              "2            65.1  \n",
              "3            95.9  \n",
              "4            59.7  "
            ],
            "text/html": [
              "\n",
              "  <div id=\"df-15ca806e-39a5-4dbd-8a8c-4e73153bbbbf\" class=\"colab-df-container\">\n",
              "    <div>\n",
              "<style scoped>\n",
              "    .dataframe tbody tr th:only-of-type {\n",
              "        vertical-align: middle;\n",
              "    }\n",
              "\n",
              "    .dataframe tbody tr th {\n",
              "        vertical-align: top;\n",
              "    }\n",
              "\n",
              "    .dataframe thead th {\n",
              "        text-align: right;\n",
              "    }\n",
              "</style>\n",
              "<table border=\"1\" class=\"dataframe\">\n",
              "  <thead>\n",
              "    <tr style=\"text-align: right;\">\n",
              "      <th></th>\n",
              "      <th>index</th>\n",
              "      <th>school_name</th>\n",
              "      <th>borough</th>\n",
              "      <th>building_code</th>\n",
              "      <th>average_math</th>\n",
              "      <th>average_reading</th>\n",
              "      <th>average_writing</th>\n",
              "      <th>percent_tested</th>\n",
              "    </tr>\n",
              "  </thead>\n",
              "  <tbody>\n",
              "    <tr>\n",
              "      <th>0</th>\n",
              "      <td>0</td>\n",
              "      <td>New Explorations into Science, Technology and ...</td>\n",
              "      <td>Manhattan</td>\n",
              "      <td>M022</td>\n",
              "      <td>657</td>\n",
              "      <td>601</td>\n",
              "      <td>601</td>\n",
              "      <td>NaN</td>\n",
              "    </tr>\n",
              "    <tr>\n",
              "      <th>1</th>\n",
              "      <td>1</td>\n",
              "      <td>Essex Street Academy</td>\n",
              "      <td>Manhattan</td>\n",
              "      <td>M445</td>\n",
              "      <td>395</td>\n",
              "      <td>411</td>\n",
              "      <td>387</td>\n",
              "      <td>78.9</td>\n",
              "    </tr>\n",
              "    <tr>\n",
              "      <th>2</th>\n",
              "      <td>2</td>\n",
              "      <td>Lower Manhattan Arts Academy</td>\n",
              "      <td>Manhattan</td>\n",
              "      <td>M445</td>\n",
              "      <td>418</td>\n",
              "      <td>428</td>\n",
              "      <td>415</td>\n",
              "      <td>65.1</td>\n",
              "    </tr>\n",
              "    <tr>\n",
              "      <th>3</th>\n",
              "      <td>3</td>\n",
              "      <td>High School for Dual Language and Asian Studies</td>\n",
              "      <td>Manhattan</td>\n",
              "      <td>M445</td>\n",
              "      <td>613</td>\n",
              "      <td>453</td>\n",
              "      <td>463</td>\n",
              "      <td>95.9</td>\n",
              "    </tr>\n",
              "    <tr>\n",
              "      <th>4</th>\n",
              "      <td>4</td>\n",
              "      <td>Henry Street School for International Studies</td>\n",
              "      <td>Manhattan</td>\n",
              "      <td>M056</td>\n",
              "      <td>410</td>\n",
              "      <td>406</td>\n",
              "      <td>381</td>\n",
              "      <td>59.7</td>\n",
              "    </tr>\n",
              "  </tbody>\n",
              "</table>\n",
              "</div>\n",
              "    <div class=\"colab-df-buttons\">\n",
              "\n",
              "  <div class=\"colab-df-container\">\n",
              "    <button class=\"colab-df-convert\" onclick=\"convertToInteractive('df-15ca806e-39a5-4dbd-8a8c-4e73153bbbbf')\"\n",
              "            title=\"Convert this dataframe to an interactive table.\"\n",
              "            style=\"display:none;\">\n",
              "\n",
              "  <svg xmlns=\"http://www.w3.org/2000/svg\" height=\"24px\" viewBox=\"0 -960 960 960\">\n",
              "    <path d=\"M120-120v-720h720v720H120Zm60-500h600v-160H180v160Zm220 220h160v-160H400v160Zm0 220h160v-160H400v160ZM180-400h160v-160H180v160Zm440 0h160v-160H620v160ZM180-180h160v-160H180v160Zm440 0h160v-160H620v160Z\"/>\n",
              "  </svg>\n",
              "    </button>\n",
              "\n",
              "  <style>\n",
              "    .colab-df-container {\n",
              "      display:flex;\n",
              "      gap: 12px;\n",
              "    }\n",
              "\n",
              "    .colab-df-convert {\n",
              "      background-color: #E8F0FE;\n",
              "      border: none;\n",
              "      border-radius: 50%;\n",
              "      cursor: pointer;\n",
              "      display: none;\n",
              "      fill: #1967D2;\n",
              "      height: 32px;\n",
              "      padding: 0 0 0 0;\n",
              "      width: 32px;\n",
              "    }\n",
              "\n",
              "    .colab-df-convert:hover {\n",
              "      background-color: #E2EBFA;\n",
              "      box-shadow: 0px 1px 2px rgba(60, 64, 67, 0.3), 0px 1px 3px 1px rgba(60, 64, 67, 0.15);\n",
              "      fill: #174EA6;\n",
              "    }\n",
              "\n",
              "    .colab-df-buttons div {\n",
              "      margin-bottom: 4px;\n",
              "    }\n",
              "\n",
              "    [theme=dark] .colab-df-convert {\n",
              "      background-color: #3B4455;\n",
              "      fill: #D2E3FC;\n",
              "    }\n",
              "\n",
              "    [theme=dark] .colab-df-convert:hover {\n",
              "      background-color: #434B5C;\n",
              "      box-shadow: 0px 1px 3px 1px rgba(0, 0, 0, 0.15);\n",
              "      filter: drop-shadow(0px 1px 2px rgba(0, 0, 0, 0.3));\n",
              "      fill: #FFFFFF;\n",
              "    }\n",
              "  </style>\n",
              "\n",
              "    <script>\n",
              "      const buttonEl =\n",
              "        document.querySelector('#df-15ca806e-39a5-4dbd-8a8c-4e73153bbbbf button.colab-df-convert');\n",
              "      buttonEl.style.display =\n",
              "        google.colab.kernel.accessAllowed ? 'block' : 'none';\n",
              "\n",
              "      async function convertToInteractive(key) {\n",
              "        const element = document.querySelector('#df-15ca806e-39a5-4dbd-8a8c-4e73153bbbbf');\n",
              "        const dataTable =\n",
              "          await google.colab.kernel.invokeFunction('convertToInteractive',\n",
              "                                                    [key], {});\n",
              "        if (!dataTable) return;\n",
              "\n",
              "        const docLinkHtml = 'Like what you see? Visit the ' +\n",
              "          '<a target=\"_blank\" href=https://colab.research.google.com/notebooks/data_table.ipynb>data table notebook</a>'\n",
              "          + ' to learn more about interactive tables.';\n",
              "        element.innerHTML = '';\n",
              "        dataTable['output_type'] = 'display_data';\n",
              "        await google.colab.output.renderOutput(dataTable, element);\n",
              "        const docLink = document.createElement('div');\n",
              "        docLink.innerHTML = docLinkHtml;\n",
              "        element.appendChild(docLink);\n",
              "      }\n",
              "    </script>\n",
              "  </div>\n",
              "\n",
              "\n",
              "<div id=\"df-4febcac9-d745-4914-b37d-a5b2fecf6c07\">\n",
              "  <button class=\"colab-df-quickchart\" onclick=\"quickchart('df-4febcac9-d745-4914-b37d-a5b2fecf6c07')\"\n",
              "            title=\"Suggest charts\"\n",
              "            style=\"display:none;\">\n",
              "\n",
              "<svg xmlns=\"http://www.w3.org/2000/svg\" height=\"24px\"viewBox=\"0 0 24 24\"\n",
              "     width=\"24px\">\n",
              "    <g>\n",
              "        <path d=\"M19 3H5c-1.1 0-2 .9-2 2v14c0 1.1.9 2 2 2h14c1.1 0 2-.9 2-2V5c0-1.1-.9-2-2-2zM9 17H7v-7h2v7zm4 0h-2V7h2v10zm4 0h-2v-4h2v4z\"/>\n",
              "    </g>\n",
              "</svg>\n",
              "  </button>\n",
              "\n",
              "<style>\n",
              "  .colab-df-quickchart {\n",
              "      --bg-color: #E8F0FE;\n",
              "      --fill-color: #1967D2;\n",
              "      --hover-bg-color: #E2EBFA;\n",
              "      --hover-fill-color: #174EA6;\n",
              "      --disabled-fill-color: #AAA;\n",
              "      --disabled-bg-color: #DDD;\n",
              "  }\n",
              "\n",
              "  [theme=dark] .colab-df-quickchart {\n",
              "      --bg-color: #3B4455;\n",
              "      --fill-color: #D2E3FC;\n",
              "      --hover-bg-color: #434B5C;\n",
              "      --hover-fill-color: #FFFFFF;\n",
              "      --disabled-bg-color: #3B4455;\n",
              "      --disabled-fill-color: #666;\n",
              "  }\n",
              "\n",
              "  .colab-df-quickchart {\n",
              "    background-color: var(--bg-color);\n",
              "    border: none;\n",
              "    border-radius: 50%;\n",
              "    cursor: pointer;\n",
              "    display: none;\n",
              "    fill: var(--fill-color);\n",
              "    height: 32px;\n",
              "    padding: 0;\n",
              "    width: 32px;\n",
              "  }\n",
              "\n",
              "  .colab-df-quickchart:hover {\n",
              "    background-color: var(--hover-bg-color);\n",
              "    box-shadow: 0 1px 2px rgba(60, 64, 67, 0.3), 0 1px 3px 1px rgba(60, 64, 67, 0.15);\n",
              "    fill: var(--button-hover-fill-color);\n",
              "  }\n",
              "\n",
              "  .colab-df-quickchart-complete:disabled,\n",
              "  .colab-df-quickchart-complete:disabled:hover {\n",
              "    background-color: var(--disabled-bg-color);\n",
              "    fill: var(--disabled-fill-color);\n",
              "    box-shadow: none;\n",
              "  }\n",
              "\n",
              "  .colab-df-spinner {\n",
              "    border: 2px solid var(--fill-color);\n",
              "    border-color: transparent;\n",
              "    border-bottom-color: var(--fill-color);\n",
              "    animation:\n",
              "      spin 1s steps(1) infinite;\n",
              "  }\n",
              "\n",
              "  @keyframes spin {\n",
              "    0% {\n",
              "      border-color: transparent;\n",
              "      border-bottom-color: var(--fill-color);\n",
              "      border-left-color: var(--fill-color);\n",
              "    }\n",
              "    20% {\n",
              "      border-color: transparent;\n",
              "      border-left-color: var(--fill-color);\n",
              "      border-top-color: var(--fill-color);\n",
              "    }\n",
              "    30% {\n",
              "      border-color: transparent;\n",
              "      border-left-color: var(--fill-color);\n",
              "      border-top-color: var(--fill-color);\n",
              "      border-right-color: var(--fill-color);\n",
              "    }\n",
              "    40% {\n",
              "      border-color: transparent;\n",
              "      border-right-color: var(--fill-color);\n",
              "      border-top-color: var(--fill-color);\n",
              "    }\n",
              "    60% {\n",
              "      border-color: transparent;\n",
              "      border-right-color: var(--fill-color);\n",
              "    }\n",
              "    80% {\n",
              "      border-color: transparent;\n",
              "      border-right-color: var(--fill-color);\n",
              "      border-bottom-color: var(--fill-color);\n",
              "    }\n",
              "    90% {\n",
              "      border-color: transparent;\n",
              "      border-bottom-color: var(--fill-color);\n",
              "    }\n",
              "  }\n",
              "</style>\n",
              "\n",
              "  <script>\n",
              "    async function quickchart(key) {\n",
              "      const quickchartButtonEl =\n",
              "        document.querySelector('#' + key + ' button');\n",
              "      quickchartButtonEl.disabled = true;  // To prevent multiple clicks.\n",
              "      quickchartButtonEl.classList.add('colab-df-spinner');\n",
              "      try {\n",
              "        const charts = await google.colab.kernel.invokeFunction(\n",
              "            'suggestCharts', [key], {});\n",
              "      } catch (error) {\n",
              "        console.error('Error during call to suggestCharts:', error);\n",
              "      }\n",
              "      quickchartButtonEl.classList.remove('colab-df-spinner');\n",
              "      quickchartButtonEl.classList.add('colab-df-quickchart-complete');\n",
              "    }\n",
              "    (() => {\n",
              "      let quickchartButtonEl =\n",
              "        document.querySelector('#df-4febcac9-d745-4914-b37d-a5b2fecf6c07 button');\n",
              "      quickchartButtonEl.style.display =\n",
              "        google.colab.kernel.accessAllowed ? 'block' : 'none';\n",
              "    })();\n",
              "  </script>\n",
              "</div>\n",
              "\n",
              "    </div>\n",
              "  </div>\n"
            ],
            "application/vnd.google.colaboratory.intrinsic+json": {
              "type": "dataframe",
              "variable_name": "schools",
              "summary": "{\n  \"name\": \"schools\",\n  \"rows\": 375,\n  \"fields\": [\n    {\n      \"column\": \"index\",\n      \"properties\": {\n        \"dtype\": \"number\",\n        \"std\": 108,\n        \"min\": 0,\n        \"max\": 374,\n        \"num_unique_values\": 375,\n        \"samples\": [\n          167,\n          33,\n          15\n        ],\n        \"semantic_type\": \"\",\n        \"description\": \"\"\n      }\n    },\n    {\n      \"column\": \"school_name\",\n      \"properties\": {\n        \"dtype\": \"string\",\n        \"num_unique_values\": 375,\n        \"samples\": [\n          \"Bronx Lab School\",\n          \"NYC iSchool\",\n          \"Gramercy Arts High School\"\n        ],\n        \"semantic_type\": \"\",\n        \"description\": \"\"\n      }\n    },\n    {\n      \"column\": \"borough\",\n      \"properties\": {\n        \"dtype\": \"category\",\n        \"num_unique_values\": 5,\n        \"samples\": [\n          \"Staten Island\",\n          \"Brooklyn\",\n          \"Bronx\"\n        ],\n        \"semantic_type\": \"\",\n        \"description\": \"\"\n      }\n    },\n    {\n      \"column\": \"building_code\",\n      \"properties\": {\n        \"dtype\": \"string\",\n        \"num_unique_values\": 233,\n        \"samples\": [\n          \"X876\",\n          \"Q202\",\n          \"Q410\"\n        ],\n        \"semantic_type\": \"\",\n        \"description\": \"\"\n      }\n    },\n    {\n      \"column\": \"average_math\",\n      \"properties\": {\n        \"dtype\": \"number\",\n        \"std\": 71,\n        \"min\": 317,\n        \"max\": 754,\n        \"num_unique_values\": 173,\n        \"samples\": [\n          476,\n          581,\n          513\n        ],\n        \"semantic_type\": \"\",\n        \"description\": \"\"\n      }\n    },\n    {\n      \"column\": \"average_reading\",\n      \"properties\": {\n        \"dtype\": \"number\",\n        \"std\": 61,\n        \"min\": 302,\n        \"max\": 697,\n        \"num_unique_values\": 165,\n        \"samples\": [\n          370,\n          430,\n          376\n        ],\n        \"semantic_type\": \"\",\n        \"description\": \"\"\n      }\n    },\n    {\n      \"column\": \"average_writing\",\n      \"properties\": {\n        \"dtype\": \"number\",\n        \"std\": 64,\n        \"min\": 284,\n        \"max\": 693,\n        \"num_unique_values\": 162,\n        \"samples\": [\n          473,\n          377,\n          350\n        ],\n        \"semantic_type\": \"\",\n        \"description\": \"\"\n      }\n    },\n    {\n      \"column\": \"percent_tested\",\n      \"properties\": {\n        \"dtype\": \"number\",\n        \"std\": 18.74763421906796,\n        \"min\": 18.5,\n        \"max\": 100.0,\n        \"num_unique_values\": 275,\n        \"samples\": [\n          80.4,\n          93.0,\n          26.4\n        ],\n        \"semantic_type\": \"\",\n        \"description\": \"\"\n      }\n    }\n  ]\n}"
            }
          },
          "metadata": {},
          "execution_count": 1
        }
      ],
      "source": [
        "import pandas as pd\n",
        "\n",
        "schools = pd.read_csv(\"schools.csv\")\n",
        "\n",
        "# Preview the data\n",
        "schools.head()\n"
      ]
    },
    {
      "cell_type": "markdown",
      "source": [
        "1. Which NYC schools have the best math results?\n",
        "The best math results are at least 80% of the maximum possible score of 800 for math."
      ],
      "metadata": {
        "id": "BMn9Q7RIuMo3"
      }
    },
    {
      "cell_type": "code",
      "source": [
        "best_math_threshold = 800 * 0.80  # 80% of 800"
      ],
      "metadata": {
        "id": "LFJOSDiTuGmw"
      },
      "execution_count": 12,
      "outputs": []
    },
    {
      "cell_type": "markdown",
      "source": [
        "Filter schools with average_math >= 640"
      ],
      "metadata": {
        "id": "b3AzQaltuaLP"
      }
    },
    {
      "cell_type": "code",
      "source": [
        "best_math_schools = schools[schools['average_math'] >= best_math_threshold][['school_name', 'average_math']]"
      ],
      "metadata": {
        "id": "XX-gaXrsuGsJ"
      },
      "execution_count": 11,
      "outputs": []
    },
    {
      "cell_type": "markdown",
      "source": [
        "Sort by average_math in descending order"
      ],
      "metadata": {
        "id": "GdzZSJSUupAo"
      }
    },
    {
      "cell_type": "code",
      "source": [
        "best_math_schools = best_math_schools.sort_values(by='average_math', ascending=False)\n",
        "\n",
        "print(best_math_schools)"
      ],
      "metadata": {
        "colab": {
          "base_uri": "https://localhost:8080/"
        },
        "id": "KFNqts3-uGwN",
        "outputId": "17a8969c-a2aa-4e38-f1be-45f193177d27"
      },
      "execution_count": 9,
      "outputs": [
        {
          "output_type": "stream",
          "name": "stdout",
          "text": [
            "                                           school_name  average_math\n",
            "88                              Stuyvesant High School           754\n",
            "170                       Bronx High School of Science           714\n",
            "93                 Staten Island Technical High School           711\n",
            "365  Queens High School for the Sciences at York Co...           701\n",
            "68   High School for Mathematics, Science, and Engi...           683\n",
            "280                     Brooklyn Technical High School           682\n",
            "333                        Townsend Harris High School           680\n",
            "174  High School of American Studies at Lehman College           669\n",
            "0    New Explorations into Science, Technology and ...           657\n",
            "45                       Eleanor Roosevelt High School           641\n"
          ]
        }
      ]
    },
    {
      "cell_type": "markdown",
      "source": [
        "2. What are the top 10 performing schools based on the combined SAT scores Calculate the total SAT score (math + reading + writing)"
      ],
      "metadata": {
        "id": "Vd6261wu0s95"
      }
    },
    {
      "cell_type": "code",
      "source": [
        "schools['total_SAT'] = schools['average_math'] + schools['average_reading'] + schools['average_writing']\n",
        "\n",
        "# The top 10 schools based on total_SAT\n",
        "top_10_schools = schools[['school_name', 'total_SAT']].sort_values(by='total_SAT', ascending=False).head(10)\n",
        "\n",
        "# The results\n",
        "print(\"Best Math Schools:\")\n",
        "print(best_math_schools)\n",
        "\n",
        "print(\"\\nTop 10 Performing Schools based on Combined SAT Scores:\")\n",
        "print(top_10_schools)"
      ],
      "metadata": {
        "colab": {
          "base_uri": "https://localhost:8080/"
        },
        "id": "uoNpbqYSuGzv",
        "outputId": "6c98a61e-85a4-494b-9b44-ecd18efe4103"
      },
      "execution_count": 10,
      "outputs": [
        {
          "output_type": "stream",
          "name": "stdout",
          "text": [
            "Best Math Schools:\n",
            "                                           school_name  average_math\n",
            "88                              Stuyvesant High School           754\n",
            "170                       Bronx High School of Science           714\n",
            "93                 Staten Island Technical High School           711\n",
            "365  Queens High School for the Sciences at York Co...           701\n",
            "68   High School for Mathematics, Science, and Engi...           683\n",
            "280                     Brooklyn Technical High School           682\n",
            "333                        Townsend Harris High School           680\n",
            "174  High School of American Studies at Lehman College           669\n",
            "0    New Explorations into Science, Technology and ...           657\n",
            "45                       Eleanor Roosevelt High School           641\n",
            "\n",
            "Top 10 Performing Schools based on Combined SAT Scores:\n",
            "                                           school_name  total_SAT\n",
            "88                              Stuyvesant High School       2144\n",
            "170                       Bronx High School of Science       2041\n",
            "93                 Staten Island Technical High School       2041\n",
            "174  High School of American Studies at Lehman College       2013\n",
            "333                        Townsend Harris High School       1981\n",
            "365  Queens High School for the Sciences at York Co...       1947\n",
            "5                       Bard High School Early College       1914\n",
            "280                     Brooklyn Technical High School       1896\n",
            "45                       Eleanor Roosevelt High School       1889\n",
            "68   High School for Mathematics, Science, and Engi...       1889\n"
          ]
        }
      ]
    },
    {
      "cell_type": "markdown",
      "source": [
        "3. Group by borough and calculate the required statistics:\n",
        "- Number of schools in the borough\n",
        "- Mean of total_SAT\n",
        "- Standard deviation of total_SAT"
      ],
      "metadata": {
        "id": "FBvc8aJb1R2z"
      }
    },
    {
      "cell_type": "code",
      "source": [
        "borough_stats = schools.groupby('borough').agg(\n",
        "    num_schools=('school_name', 'size'),  # Number of schools in the borough\n",
        "    average_SAT=('total_SAT', 'mean'),    # Mean of total_SAT\n",
        "    std_SAT=('total_SAT', 'std')          # Standard deviation of total_SAT\n",
        ").reset_index()\n",
        "\n",
        "# Round all numeric values to two decimal places\n",
        "borough_stats = borough_stats.round(2)\n",
        "\n",
        "# Find the borough with the largest standard deviation\n",
        "largest_std_dev = borough_stats.loc[borough_stats['std_SAT'].idxmax()]\n",
        "\n",
        "# Convert the result to a DataFrame with one row\n",
        "largest_std_dev = pd.DataFrame(largest_std_dev).transpose()\n",
        "\n",
        "# Display the result\n",
        "print(largest_std_dev)"
      ],
      "metadata": {
        "colab": {
          "base_uri": "https://localhost:8080/"
        },
        "id": "smRNPZ5WuG3M",
        "outputId": "fb847f28-a36b-43dc-c6c7-4c4f5af04e0d"
      },
      "execution_count": 13,
      "outputs": [
        {
          "output_type": "stream",
          "name": "stdout",
          "text": [
            "     borough num_schools average_SAT std_SAT\n",
            "2  Manhattan          89     1340.13  230.29\n"
          ]
        }
      ]
    }
  ]
}